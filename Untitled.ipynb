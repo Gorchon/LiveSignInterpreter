{
 "cells": [
  {
   "cell_type": "code",
   "execution_count": 1,
   "id": "2a27ac2a-1c6e-4c03-aa64-12afcbbcbca2",
   "metadata": {},
   "outputs": [],
   "source": [
    "import cv2 \n",
    "import os \n",
    "import time \n",
    "import uuid  # Universally Unique Identifiers."
   ]
  },
  {
   "cell_type": "code",
   "execution_count": 2,
   "id": "39b01c54-33f2-43bd-9ba8-b8f36f609962",
   "metadata": {},
   "outputs": [],
   "source": [
    "IMAGES_PATH = 'Tensorflow/workspace/images/collectedimages'"
   ]
  },
  {
   "cell_type": "code",
   "execution_count": 3,
   "id": "6eaf864e",
   "metadata": {},
   "outputs": [],
   "source": [
    "labels = ['hello', 'thanks', 'yes', 'no', 'iloveyou']\n",
    "number_imgs = 15"
   ]
  },
  {
   "cell_type": "code",
   "execution_count": 4,
   "id": "ea1d231b",
   "metadata": {},
   "outputs": [
    {
     "name": "stderr",
     "output_type": "stream",
     "text": [
      "2025-04-16 18:40:11.057 Python[5831:2107315] WARNING: AVCaptureDeviceTypeExternal is deprecated for Continuity Cameras. Please use AVCaptureDeviceTypeContinuityCamera and add NSCameraUseContinuityCameraDeviceType to your Info.plist.\n"
     ]
    },
    {
     "name": "stdout",
     "output_type": "stream",
     "text": [
      "Collecting images for hello. Press \"q\" to quit .\n",
      "Image 1 saved as Tensorflow/workspace/images/collectedimages/hello/hello.ea6415a8-1b2c-11f0-8a70-fab320380042.jpg\n",
      "Image 2 saved as Tensorflow/workspace/images/collectedimages/hello/hello.eb9b2cd6-1b2c-11f0-8a70-fab320380042.jpg\n",
      "Image 3 saved as Tensorflow/workspace/images/collectedimages/hello/hello.ecd1afa8-1b2c-11f0-8a70-fab320380042.jpg\n",
      "Image 4 saved as Tensorflow/workspace/images/collectedimages/hello/hello.ee073b18-1b2c-11f0-8a70-fab320380042.jpg\n",
      "Image 5 saved as Tensorflow/workspace/images/collectedimages/hello/hello.ef3f6dac-1b2c-11f0-8a70-fab320380042.jpg\n",
      "Image 6 saved as Tensorflow/workspace/images/collectedimages/hello/hello.f075b46a-1b2c-11f0-8a70-fab320380042.jpg\n",
      "Image 7 saved as Tensorflow/workspace/images/collectedimages/hello/hello.f1aaa322-1b2c-11f0-8a70-fab320380042.jpg\n",
      "Image 8 saved as Tensorflow/workspace/images/collectedimages/hello/hello.f2e1fed4-1b2c-11f0-8a70-fab320380042.jpg\n",
      "Image 9 saved as Tensorflow/workspace/images/collectedimages/hello/hello.f416cf5a-1b2c-11f0-8a70-fab320380042.jpg\n",
      "Image 10 saved as Tensorflow/workspace/images/collectedimages/hello/hello.f54d871a-1b2c-11f0-8a70-fab320380042.jpg\n",
      "Image 11 saved as Tensorflow/workspace/images/collectedimages/hello/hello.f685bc1a-1b2c-11f0-8a70-fab320380042.jpg\n",
      "Image 12 saved as Tensorflow/workspace/images/collectedimages/hello/hello.f7bc32b2-1b2c-11f0-8a70-fab320380042.jpg\n",
      "Image 13 saved as Tensorflow/workspace/images/collectedimages/hello/hello.f8f1e604-1b2c-11f0-8a70-fab320380042.jpg\n",
      "Image 14 saved as Tensorflow/workspace/images/collectedimages/hello/hello.fa2708ce-1b2c-11f0-8a70-fab320380042.jpg\n",
      "Image 15 saved as Tensorflow/workspace/images/collectedimages/hello/hello.fb5f4422-1b2c-11f0-8a70-fab320380042.jpg\n",
      "Collecting images for thanks. Press \"q\" to quit .\n",
      "Image 1 saved as Tensorflow/workspace/images/collectedimages/thanks/thanks.009666be-1b2d-11f0-8a70-fab320380042.jpg\n",
      "Image 2 saved as Tensorflow/workspace/images/collectedimages/thanks/thanks.01ccfcdc-1b2d-11f0-8a70-fab320380042.jpg\n",
      "Image 3 saved as Tensorflow/workspace/images/collectedimages/thanks/thanks.0301fd14-1b2d-11f0-8a70-fab320380042.jpg\n",
      "Image 4 saved as Tensorflow/workspace/images/collectedimages/thanks/thanks.0439a7cc-1b2d-11f0-8a70-fab320380042.jpg\n",
      "Image 5 saved as Tensorflow/workspace/images/collectedimages/thanks/thanks.05704768-1b2d-11f0-8a70-fab320380042.jpg\n",
      "Image 6 saved as Tensorflow/workspace/images/collectedimages/thanks/thanks.06a70cca-1b2d-11f0-8a70-fab320380042.jpg\n",
      "Image 7 saved as Tensorflow/workspace/images/collectedimages/thanks/thanks.07de15e8-1b2d-11f0-8a70-fab320380042.jpg\n",
      "Image 8 saved as Tensorflow/workspace/images/collectedimages/thanks/thanks.0913f13a-1b2d-11f0-8a70-fab320380042.jpg\n",
      "Image 9 saved as Tensorflow/workspace/images/collectedimages/thanks/thanks.0a4a0878-1b2d-11f0-8a70-fab320380042.jpg\n",
      "Image 10 saved as Tensorflow/workspace/images/collectedimages/thanks/thanks.0b804496-1b2d-11f0-8a70-fab320380042.jpg\n",
      "Image 11 saved as Tensorflow/workspace/images/collectedimages/thanks/thanks.0cb77370-1b2d-11f0-8a70-fab320380042.jpg\n",
      "Image 12 saved as Tensorflow/workspace/images/collectedimages/thanks/thanks.0df15c56-1b2d-11f0-8a70-fab320380042.jpg\n",
      "Image 13 saved as Tensorflow/workspace/images/collectedimages/thanks/thanks.0f28c870-1b2d-11f0-8a70-fab320380042.jpg\n",
      "Image 14 saved as Tensorflow/workspace/images/collectedimages/thanks/thanks.105cbae4-1b2d-11f0-8a70-fab320380042.jpg\n",
      "Image 15 saved as Tensorflow/workspace/images/collectedimages/thanks/thanks.1195b0fa-1b2d-11f0-8a70-fab320380042.jpg\n",
      "Collecting images for yes. Press \"q\" to quit .\n",
      "Image 1 saved as Tensorflow/workspace/images/collectedimages/yes/yes.16d86328-1b2d-11f0-8a70-fab320380042.jpg\n",
      "Image 2 saved as Tensorflow/workspace/images/collectedimages/yes/yes.180ec16a-1b2d-11f0-8a70-fab320380042.jpg\n",
      "Image 3 saved as Tensorflow/workspace/images/collectedimages/yes/yes.19439f9c-1b2d-11f0-8a70-fab320380042.jpg\n",
      "Image 4 saved as Tensorflow/workspace/images/collectedimages/yes/yes.1a7b1cb4-1b2d-11f0-8a70-fab320380042.jpg\n",
      "Image 5 saved as Tensorflow/workspace/images/collectedimages/yes/yes.1bb1a616-1b2d-11f0-8a70-fab320380042.jpg\n",
      "Image 6 saved as Tensorflow/workspace/images/collectedimages/yes/yes.1ce83946-1b2d-11f0-8a70-fab320380042.jpg\n",
      "Image 7 saved as Tensorflow/workspace/images/collectedimages/yes/yes.1e1d7254-1b2d-11f0-8a70-fab320380042.jpg\n",
      "Image 8 saved as Tensorflow/workspace/images/collectedimages/yes/yes.1f54ce6a-1b2d-11f0-8a70-fab320380042.jpg\n",
      "Image 9 saved as Tensorflow/workspace/images/collectedimages/yes/yes.208a5ae8-1b2d-11f0-8a70-fab320380042.jpg\n",
      "Image 10 saved as Tensorflow/workspace/images/collectedimages/yes/yes.21c14ea8-1b2d-11f0-8a70-fab320380042.jpg\n",
      "Image 11 saved as Tensorflow/workspace/images/collectedimages/yes/yes.22f7840e-1b2d-11f0-8a70-fab320380042.jpg\n",
      "Image 12 saved as Tensorflow/workspace/images/collectedimages/yes/yes.242e695a-1b2d-11f0-8a70-fab320380042.jpg\n",
      "Image 13 saved as Tensorflow/workspace/images/collectedimages/yes/yes.25657f7a-1b2d-11f0-8a70-fab320380042.jpg\n",
      "Image 14 saved as Tensorflow/workspace/images/collectedimages/yes/yes.269be0be-1b2d-11f0-8a70-fab320380042.jpg\n",
      "Image 15 saved as Tensorflow/workspace/images/collectedimages/yes/yes.27d0f2a8-1b2d-11f0-8a70-fab320380042.jpg\n",
      "Collecting images for no. Press \"q\" to quit .\n",
      "Image 1 saved as Tensorflow/workspace/images/collectedimages/no/no.2c34629e-1b2d-11f0-8a70-fab320380042.jpg\n",
      "Image 2 saved as Tensorflow/workspace/images/collectedimages/no/no.2d694260-1b2d-11f0-8a70-fab320380042.jpg\n",
      "Image 3 saved as Tensorflow/workspace/images/collectedimages/no/no.2ea0d9c2-1b2d-11f0-8a70-fab320380042.jpg\n",
      "Image 4 saved as Tensorflow/workspace/images/collectedimages/no/no.2fd5e6ac-1b2d-11f0-8a70-fab320380042.jpg\n",
      "Image 5 saved as Tensorflow/workspace/images/collectedimages/no/no.310ae626-1b2d-11f0-8a70-fab320380042.jpg\n",
      "Image 6 saved as Tensorflow/workspace/images/collectedimages/no/no.323e429a-1b2d-11f0-8a70-fab320380042.jpg\n",
      "Image 7 saved as Tensorflow/workspace/images/collectedimages/no/no.3375be0e-1b2d-11f0-8a70-fab320380042.jpg\n",
      "Image 8 saved as Tensorflow/workspace/images/collectedimages/no/no.34acb8b8-1b2d-11f0-8a70-fab320380042.jpg\n",
      "Image 9 saved as Tensorflow/workspace/images/collectedimages/no/no.35e23ce4-1b2d-11f0-8a70-fab320380042.jpg\n",
      "Image 10 saved as Tensorflow/workspace/images/collectedimages/no/no.371976a4-1b2d-11f0-8a70-fab320380042.jpg\n",
      "Image 11 saved as Tensorflow/workspace/images/collectedimages/no/no.384f61f0-1b2d-11f0-8a70-fab320380042.jpg\n",
      "Image 12 saved as Tensorflow/workspace/images/collectedimages/no/no.39857654-1b2d-11f0-8a70-fab320380042.jpg\n",
      "Image 13 saved as Tensorflow/workspace/images/collectedimages/no/no.3abbddec-1b2d-11f0-8a70-fab320380042.jpg\n",
      "Image 14 saved as Tensorflow/workspace/images/collectedimages/no/no.3bf45c98-1b2d-11f0-8a70-fab320380042.jpg\n",
      "Image 15 saved as Tensorflow/workspace/images/collectedimages/no/no.3d28b19a-1b2d-11f0-8a70-fab320380042.jpg\n",
      "Collecting images for iloveyou. Press \"q\" to quit .\n",
      "Image 1 saved as Tensorflow/workspace/images/collectedimages/iloveyou/iloveyou.418d76bc-1b2d-11f0-8a70-fab320380042.jpg\n",
      "Image 2 saved as Tensorflow/workspace/images/collectedimages/iloveyou/iloveyou.42c28428-1b2d-11f0-8a70-fab320380042.jpg\n",
      "Image 3 saved as Tensorflow/workspace/images/collectedimages/iloveyou/iloveyou.43f85f48-1b2d-11f0-8a70-fab320380042.jpg\n",
      "Image 4 saved as Tensorflow/workspace/images/collectedimages/iloveyou/iloveyou.452c4f32-1b2d-11f0-8a70-fab320380042.jpg\n",
      "Image 5 saved as Tensorflow/workspace/images/collectedimages/iloveyou/iloveyou.466068de-1b2d-11f0-8a70-fab320380042.jpg\n",
      "Image 6 saved as Tensorflow/workspace/images/collectedimages/iloveyou/iloveyou.47977fe4-1b2d-11f0-8a70-fab320380042.jpg\n",
      "Image 7 saved as Tensorflow/workspace/images/collectedimages/iloveyou/iloveyou.48cf504e-1b2d-11f0-8a70-fab320380042.jpg\n",
      "Image 8 saved as Tensorflow/workspace/images/collectedimages/iloveyou/iloveyou.4a0580d2-1b2d-11f0-8a70-fab320380042.jpg\n",
      "Image 9 saved as Tensorflow/workspace/images/collectedimages/iloveyou/iloveyou.4b3b725e-1b2d-11f0-8a70-fab320380042.jpg\n",
      "Image 10 saved as Tensorflow/workspace/images/collectedimages/iloveyou/iloveyou.4c720a48-1b2d-11f0-8a70-fab320380042.jpg\n",
      "Image 11 saved as Tensorflow/workspace/images/collectedimages/iloveyou/iloveyou.4da74d1a-1b2d-11f0-8a70-fab320380042.jpg\n",
      "Image 12 saved as Tensorflow/workspace/images/collectedimages/iloveyou/iloveyou.4edb8886-1b2d-11f0-8a70-fab320380042.jpg\n",
      "Image 13 saved as Tensorflow/workspace/images/collectedimages/iloveyou/iloveyou.50108e4a-1b2d-11f0-8a70-fab320380042.jpg\n",
      "Image 14 saved as Tensorflow/workspace/images/collectedimages/iloveyou/iloveyou.514a6682-1b2d-11f0-8a70-fab320380042.jpg\n",
      "Image 15 saved as Tensorflow/workspace/images/collectedimages/iloveyou/iloveyou.5281cb9e-1b2d-11f0-8a70-fab320380042.jpg\n"
     ]
    }
   ],
   "source": [
    "for label in labels:\n",
    "    # Create a directory for each label\n",
    "    os.makedirs(os.path.join(IMAGES_PATH, label), exist_ok=True)\n",
    "    \n",
    "    cap = cv2.VideoCapture(0)  # Open the webcam (0 is usually the default camera) as i am using mac \n",
    "    print(f'Collecting images for {label}. Press \"q\" to quit .')\n",
    "    \n",
    "    time.sleep(5)  # Allow time to set up the camera\n",
    "    \n",
    "    for imgnum in range(number_imgs):\n",
    "        ret, frame = cap.read()  # Capture a frame from the webcam\n",
    "        if ret:\n",
    "            # Save the captured frame to the specified directory with a unique filename\n",
    "            imgname = os.path.join(IMAGES_PATH, label, f'{label}.{str(uuid.uuid1())}.jpg')\n",
    "            cv2.imwrite(imgname, frame)\n",
    "            print(f'Image {imgnum + 1} saved as {imgname}')\n",
    "            time.sleep(2)  # Wait before capturing the next image\n",
    "        else:\n",
    "            print(\"Failed to capture image\")\n",
    "    \n",
    "    cap.release()  # Release the webcam\n",
    "    cv2.destroyAllWindows()  # Close any OpenCV windows"
   ]
  },
  {
   "cell_type": "code",
   "execution_count": null,
   "id": "8a0ef8f4",
   "metadata": {},
   "outputs": [],
   "source": [
    "# so we now gonna use the label package"
   ]
  }
 ],
 "metadata": {
  "kernelspec": {
   "display_name": "venv",
   "language": "python",
   "name": "python3"
  },
  "language_info": {
   "codemirror_mode": {
    "name": "ipython",
    "version": 3
   },
   "file_extension": ".py",
   "mimetype": "text/x-python",
   "name": "python",
   "nbconvert_exporter": "python",
   "pygments_lexer": "ipython3",
   "version": "3.9.6"
  }
 },
 "nbformat": 4,
 "nbformat_minor": 5
}
