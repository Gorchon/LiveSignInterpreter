{
 "cells": [
  {
   "cell_type": "code",
   "execution_count": 1,
   "id": "2a27ac2a-1c6e-4c03-aa64-12afcbbcbca2",
   "metadata": {},
   "outputs": [],
   "source": [
    "import cv2 \n",
    "import os \n",
    "import time\n",
    "import uuid  # Universally Unique Identifiers."
   ]
  },
  {
   "cell_type": "code",
   "execution_count": 4,
   "id": "39b01c54-33f2-43bd-9ba8-b8f36f609962",
   "metadata": {},
   "outputs": [],
   "source": [
    "IMAGES_PATH = 'Tensorflow/workspace/images/collectedimages'"
   ]
  },
  {
   "cell_type": "code",
   "execution_count": 5,
   "id": "6eaf864e",
   "metadata": {},
   "outputs": [],
   "source": [
    "labels = ['hello', 'thanks', 'yes', 'no', 'iloveyou']\n",
    "number_imgs = 15"
   ]
  },
  {
   "cell_type": "code",
   "execution_count": null,
   "id": "ea1d231b",
   "metadata": {},
   "outputs": [],
   "source": [
    "for label in labels:\n",
    "    # Create a directory for each label\n",
    "    os.makedirs(os.path.join(IMAGES_PATH, label), exist_ok=True)\n",
    "    \n",
    "    cap = cv2.VideoCapture(0)  # Open the webcam (0 is usually the default camera)\n",
    "    print(f'Collecting images for {label}. Press \"q\" to quit.')\n",
    "    \n",
    "    time.sleep(5)  # Allow time to set up the camera\n",
    "    \n",
    "    for imgnum in range(number_imgs):\n",
    "        ret, frame = cap.read()  # Capture a frame from the webcam\n",
    "        if ret:\n",
    "            # Save the captured frame to the specified directory with a unique filename\n",
    "            imgname = os.path.join(IMAGES_PATH, label, f'{label}.{str(uuid.uuid1())}.jpg')\n",
    "            cv2.imwrite(imgname, frame)\n",
    "            print(f'Image {imgnum + 1} saved as {imgname}')\n",
    "            time.sleep(2)  # Wait before capturing the next image\n",
    "        else:\n",
    "            print(\"Failed to capture image\")\n",
    "    \n",
    "    cap.release()  # Release the webcam\n",
    "    cv2.destroyAllWindows()  # Close any OpenCV windows"
   ]
  }
 ],
 "metadata": {
  "kernelspec": {
   "display_name": "venv",
   "language": "python",
   "name": "python3"
  },
  "language_info": {
   "codemirror_mode": {
    "name": "ipython",
    "version": 3
   },
   "file_extension": ".py",
   "mimetype": "text/x-python",
   "name": "python",
   "nbconvert_exporter": "python",
   "pygments_lexer": "ipython3",
   "version": "3.9.6"
  }
 },
 "nbformat": 4,
 "nbformat_minor": 5
}
